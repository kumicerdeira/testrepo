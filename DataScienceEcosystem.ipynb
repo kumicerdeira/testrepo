{
 "cells": [
  {
   "cell_type": "markdown",
   "id": "6c16a31f-0a91-41e3-91c3-fa79bd8dbf9f",
   "metadata": {
    "tags": []
   },
   "source": [
    "# Data Science Tools and Ecosystem"
   ]
  },
  {
   "cell_type": "markdown",
   "id": "38e0951d-2d3d-42ca-b8f4-40060aa9c821",
   "metadata": {
    "tags": []
   },
   "source": [
    "In this notebook, Data Science Tools and Ecosystem are summarized."
   ]
  },
  {
   "cell_type": "markdown",
   "id": "227bf898-dc43-47f7-b273-a417500bfd6b",
   "metadata": {},
   "source": [
    "Some of the popular languages that Data Scientists use are:\n",
    "    1.R\n",
    "    2.Python\n",
    "    3.C++"
   ]
  },
  {
   "cell_type": "markdown",
   "id": "4a5d8155-f81c-4ddb-ac02-e9e8ebb341fc",
   "metadata": {},
   "source": [
    "Some of the commonly used libraries used by Data Scientists include:\n",
    "    1.dplyr\n",
    "    2.stringr\n",
    "    3.ggplot\n",
    "    4.caret"
   ]
  },
  {
   "cell_type": "markdown",
   "id": "385eb008-5626-455a-8067-f7547901d173",
   "metadata": {},
   "source": [
    "**Objectives**\n",
    "- List popular languages for Data Science.\n",
    "- Create a code cell to multiply and add numbers.\n",
    "- Create a markdown cell introducing arithmetic expression examples."
   ]
  },
  {
   "cell_type": "markdown",
   "id": "249d929c-c81e-4eac-b944-cdf0c0a57c7e",
   "metadata": {},
   "source": [
    "| Data Science Tools |\n",
    "| ---|\n",
    "| VS Code |\n",
    "| RStudio |\n",
    "| GoogleColaboratory |\n"
   ]
  },
  {
   "cell_type": "markdown",
   "id": "59b6bcfd-4fbb-47f0-bbd4-3326e32f784f",
   "metadata": {},
   "source": [
    "### Below are a few examples of evaluating arithmetic expressions in Python"
   ]
  },
  {
   "cell_type": "code",
   "execution_count": 23,
   "id": "98ae06e1-601f-4796-a64f-ed915417b125",
   "metadata": {
    "tags": []
   },
   "outputs": [
    {
     "data": {
      "text/plain": [
       "17"
      ]
     },
     "execution_count": 23,
     "metadata": {},
     "output_type": "execute_result"
    }
   ],
   "source": [
    "#This a simple arithmetic expression to mutiply then add integers\n",
    "\n",
    "(3*4)+5"
   ]
  },
  {
   "cell_type": "code",
   "execution_count": 51,
   "id": "94fa137e-2dc6-40e9-b854-4be0df88fc18",
   "metadata": {
    "tags": []
   },
   "outputs": [
    {
     "name": "stdout",
     "output_type": "stream",
     "text": [
      "200minutes is 33.333333333333336 hours.\n"
     ]
    }
   ],
   "source": [
    "#This will convert 200 minutes to hours by diving by 60\n",
    "\n",
    "x = 200/6\n",
    "print(f'200minutes is {x} hours.')\n"
   ]
  },
  {
   "cell_type": "markdown",
   "id": "731f4abe-caa2-4d75-8cf9-3a0dde4c3c52",
   "metadata": {},
   "source": [
    "## Author\n",
    "Kumi nishizaka"
   ]
  },
  {
   "cell_type": "code",
   "execution_count": null,
   "id": "b8970a4b-d37e-4967-8da5-ff4b82f97631",
   "metadata": {},
   "outputs": [],
   "source": []
  }
 ],
 "metadata": {
  "kernelspec": {
   "display_name": "Python 3 (ipykernel)",
   "language": "python",
   "name": "python3"
  },
  "language_info": {
   "codemirror_mode": {
    "name": "ipython",
    "version": 3
   },
   "file_extension": ".py",
   "mimetype": "text/x-python",
   "name": "python",
   "nbconvert_exporter": "python",
   "pygments_lexer": "ipython3",
   "version": "3.11.7"
  }
 },
 "nbformat": 4,
 "nbformat_minor": 5
}
